{
 "cells": [
  {
   "cell_type": "markdown",
   "id": "15ea652f",
   "metadata": {},
   "source": [
    "### Machine learning\n"
   ]
  },
  {
   "cell_type": "markdown",
   "id": "ecc119b3",
   "metadata": {},
   "source": [
    "### Supervised learning algorithms\n",
    "* ( types of problems: classification and regression)\n",
    "* Linear Regression\n",
    "* Logistic Regression\n",
    "* support vector machines\n",
    "* k nearest neighbors\n",
    "* decision tree\n"
   ]
  },
  {
   "cell_type": "markdown",
   "id": "38871aa0",
   "metadata": {},
   "source": [
    "### unsupervised learning\n",
    "* ( types of problems: clustering and association)\n",
    "* k means clustering\n",
    "* hierarchial clustering\n",
    "* dbscan\n",
    "* principal component analysis\n"
   ]
  },
  {
   "cell_type": "markdown",
   "id": "b9cbe550",
   "metadata": {},
   "source": [
    "### Reinforcement learning\n",
    "* Q-learning\n",
    "* SARSA\n",
    "* Montecarlo\n",
    "* Deep Q Network\n"
   ]
  },
  {
   "cell_type": "code",
   "execution_count": null,
   "id": "3ae08fac",
   "metadata": {},
   "outputs": [],
   "source": []
  }
 ],
 "metadata": {
  "kernelspec": {
   "display_name": "Python 3 (ipykernel)",
   "language": "python",
   "name": "python3"
  },
  "language_info": {
   "codemirror_mode": {
    "name": "ipython",
    "version": 3
   },
   "file_extension": ".py",
   "mimetype": "text/x-python",
   "name": "python",
   "nbconvert_exporter": "python",
   "pygments_lexer": "ipython3",
   "version": "3.9.13"
  }
 },
 "nbformat": 4,
 "nbformat_minor": 5
}
