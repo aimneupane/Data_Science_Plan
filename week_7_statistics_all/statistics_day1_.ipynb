{
 "cells": [
  {
   "cell_type": "markdown",
   "id": "d42934f3",
   "metadata": {},
   "source": [
    "# for statistics we need\n",
    "numpy pandas and scipy"
   ]
  },
  {
   "cell_type": "markdown",
   "id": "cb955bc4",
   "metadata": {},
   "source": [
    "# statistics is a collection of methods for collecting, displaying, analyzing and drawing conclusions from data."
   ]
  },
  {
   "cell_type": "code",
   "execution_count": null,
   "id": "b29301f8",
   "metadata": {},
   "outputs": [],
   "source": []
  }
 ],
 "metadata": {
  "kernelspec": {
   "display_name": "Python 3 (ipykernel)",
   "language": "python",
   "name": "python3"
  },
  "language_info": {
   "codemirror_mode": {
    "name": "ipython",
    "version": 3
   },
   "file_extension": ".py",
   "mimetype": "text/x-python",
   "name": "python",
   "nbconvert_exporter": "python",
   "pygments_lexer": "ipython3",
   "version": "3.9.13"
  }
 },
 "nbformat": 4,
 "nbformat_minor": 5
}
