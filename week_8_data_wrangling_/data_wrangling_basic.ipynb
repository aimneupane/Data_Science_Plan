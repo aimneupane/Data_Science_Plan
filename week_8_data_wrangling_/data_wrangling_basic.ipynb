{
 "cells": [
  {
   "cell_type": "code",
   "execution_count": null,
   "id": "5dbc26d6",
   "metadata": {},
   "outputs": [],
   "source": [
    "# scatter plots is plotted with two numerical co-ordinates x and y.\n",
    "# while bar plot is plotted with one numerical and one categorical co-ordinates x and y.\n",
    "# box plot is used to check IQR and outliers.\n",
    "# line plot.\n",
    "# line plot and scatter plot is done with the trend line.\n",
    "# histogram\n",
    "# distribution plot.\n",
    "# bell curve to check normality check.\n",
    "# Stac"
   ]
  }
 ],
 "metadata": {
  "kernelspec": {
   "display_name": "Python 3 (ipykernel)",
   "language": "python",
   "name": "python3"
  },
  "language_info": {
   "codemirror_mode": {
    "name": "ipython",
    "version": 3
   },
   "file_extension": ".py",
   "mimetype": "text/x-python",
   "name": "python",
   "nbconvert_exporter": "python",
   "pygments_lexer": "ipython3",
   "version": "3.9.13"
  }
 },
 "nbformat": 4,
 "nbformat_minor": 5
}
