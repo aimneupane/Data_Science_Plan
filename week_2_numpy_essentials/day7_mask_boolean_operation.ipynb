{
 "cells": [
  {
   "cell_type": "markdown",
   "id": "a46b424d",
   "metadata": {},
   "source": [
    "### Masking and Boolean operation in Numpy\n",
    "* Array + condition = boolean array(mask)"
   ]
  },
  {
   "cell_type": "code",
   "execution_count": 3,
   "id": "c8effb96",
   "metadata": {},
   "outputs": [
    {
     "data": {
      "text/plain": [
       "array([[-3.0317513 ,  4.40525618,  0.11048609, -2.5425067 , -1.13365599],\n",
       "       [-1.73619859,  1.20787566,  2.44874661,  3.53429189,  4.89491657],\n",
       "       [ 0.81315335, -1.46839816, -1.12235191,  1.89859109, -2.62024218],\n",
       "       [-3.94909801,  3.09182749,  1.77192409,  0.18294927, -4.89851778],\n",
       "       [-3.07427508,  2.3061915 ,  0.56797533,  0.54547997, -4.71517208]])"
      ]
     },
     "execution_count": 3,
     "metadata": {},
     "output_type": "execute_result"
    }
   ],
   "source": [
    "import numpy as np\n",
    "A=10*np.random.random((5,5))-5\n",
    "A\n"
   ]
  },
  {
   "cell_type": "code",
   "execution_count": 5,
   "id": "4073f04b",
   "metadata": {},
   "outputs": [
    {
     "data": {
      "text/plain": [
       "array([[False,  True,  True, False, False],\n",
       "       [False,  True,  True,  True,  True],\n",
       "       [ True, False, False,  True, False],\n",
       "       [False,  True,  True,  True, False],\n",
       "       [False,  True,  True,  True, False]])"
      ]
     },
     "execution_count": 5,
     "metadata": {},
     "output_type": "execute_result"
    }
   ],
   "source": [
    "mask=A>0\n",
    "mask\n",
    "#here mask will only decided  the values which are greater than zero to be true and that are not to be false."
   ]
  },
  {
   "cell_type": "code",
   "execution_count": 6,
   "id": "a3aa7f2f",
   "metadata": {},
   "outputs": [
    {
     "data": {
      "text/plain": [
       "array([4.40525618, 0.11048609, 1.20787566, 2.44874661, 3.53429189,\n",
       "       4.89491657, 0.81315335, 1.89859109, 3.09182749, 1.77192409,\n",
       "       0.18294927, 2.3061915 , 0.56797533, 0.54547997])"
      ]
     },
     "execution_count": 6,
     "metadata": {},
     "output_type": "execute_result"
    }
   ],
   "source": [
    "A[mask]\n",
    "#it will only print the values of A>0"
   ]
  },
  {
   "cell_type": "code",
   "execution_count": null,
   "id": "d309cdd4",
   "metadata": {},
   "outputs": [],
   "source": []
  }
 ],
 "metadata": {
  "kernelspec": {
   "display_name": "Python 3 (ipykernel)",
   "language": "python",
   "name": "python3"
  },
  "language_info": {
   "codemirror_mode": {
    "name": "ipython",
    "version": 3
   },
   "file_extension": ".py",
   "mimetype": "text/x-python",
   "name": "python",
   "nbconvert_exporter": "python",
   "pygments_lexer": "ipython3",
   "version": "3.9.13"
  }
 },
 "nbformat": 4,
 "nbformat_minor": 5
}
