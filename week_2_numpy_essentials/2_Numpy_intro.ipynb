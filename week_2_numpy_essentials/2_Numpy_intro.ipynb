{
 "cells": [
  {
   "cell_type": "markdown",
   "id": "eaa9dd7f",
   "metadata": {},
   "source": [
    "### Numpy intro all\n",
    "* Numpy stands for Numerical python\n",
    "* Fundamental python package for scientific computing\n",
    "* tools and technique to solve mathematical problems\n",
    "* it is written in c and python\n",
    "* mainly: arrays, linear algebra, random number \n",
    "* generation, broadcasting"
   ]
  },
  {
   "cell_type": "markdown",
   "id": "2db6b100",
   "metadata": {},
   "source": [
    "### List, Dictionaries vs Numpy arrays\n",
    "* Arrays are similar to list\n",
    "    * storing data.\n",
    "    * mutable\n",
    "    * can be indexed.\n",
    "    * slicing operation\n",
    "* differences:\n",
    "    * list: different data types *  [1,2.1,\"a,1}\n",
    "    * array: similar data types * [1,2,3,4]\n",
    "    * operation\n",
    " *"
   ]
  },
  {
   "cell_type": "markdown",
   "id": "0a2ae819",
   "metadata": {},
   "source": [
    "### Numpy array creation different strategy.\n",
    "* array()\n",
    "* arange()\n",
    "* zeros()\n",
    "* ones()\n",
    "* linspace()\n",
    "* eye()\n",
    "* random()\n",
    "     * help(np.array)"
   ]
  }
 ],
 "metadata": {
  "kernelspec": {
   "display_name": "Python 3 (ipykernel)",
   "language": "python",
   "name": "python3"
  },
  "language_info": {
   "codemirror_mode": {
    "name": "ipython",
    "version": 3
   },
   "file_extension": ".py",
   "mimetype": "text/x-python",
   "name": "python",
   "nbconvert_exporter": "python",
   "pygments_lexer": "ipython3",
   "version": "3.9.13"
  }
 },
 "nbformat": 4,
 "nbformat_minor": 5
}
