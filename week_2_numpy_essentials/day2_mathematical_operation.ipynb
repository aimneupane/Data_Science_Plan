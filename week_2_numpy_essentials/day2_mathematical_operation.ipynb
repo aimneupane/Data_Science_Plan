{
 "cells": [
  {
   "cell_type": "markdown",
   "id": "b6f37b5f",
   "metadata": {},
   "source": [
    "### Joining arrays in numpy\n",
    " * vstack\n",
    " * hstack\n",
    " * column_stack"
   ]
  },
  {
   "cell_type": "markdown",
   "id": "e1a3a4db",
   "metadata": {},
   "source": [
    "### vstack()\n"
   ]
  },
  {
   "cell_type": "code",
   "execution_count": 3,
   "id": "dd7e8f75",
   "metadata": {},
   "outputs": [
    {
     "data": {
      "text/plain": [
       "array([[10, 20, 30],\n",
       "       [40, 50, 60]])"
      ]
     },
     "execution_count": 3,
     "metadata": {},
     "output_type": "execute_result"
    }
   ],
   "source": [
    "import numpy as np\n",
    "x=np.array([10,20,30])\n",
    "y=np.array([40,50,60])\n",
    "np.stack((x,y))"
   ]
  },
  {
   "cell_type": "code",
   "execution_count": 4,
   "id": "d1491a2d",
   "metadata": {},
   "outputs": [],
   "source": [
    "# if only stack is given vertical stack is default "
   ]
  },
  {
   "cell_type": "code",
   "execution_count": 5,
   "id": "6e8de800",
   "metadata": {},
   "outputs": [
    {
     "data": {
      "text/plain": [
       "array([[10, 20, 30],\n",
       "       [40, 50, 60]])"
      ]
     },
     "execution_count": 5,
     "metadata": {},
     "output_type": "execute_result"
    }
   ],
   "source": [
    "np.vstack((x,y))"
   ]
  },
  {
   "cell_type": "markdown",
   "id": "f9bd609f",
   "metadata": {},
   "source": [
    "### hstack()\n",
    "* hstack() will align all the elements horizontally"
   ]
  },
  {
   "cell_type": "code",
   "execution_count": 7,
   "id": "cd218418",
   "metadata": {},
   "outputs": [
    {
     "data": {
      "text/plain": [
       "array([10, 20, 30, 40, 50, 60])"
      ]
     },
     "execution_count": 7,
     "metadata": {},
     "output_type": "execute_result"
    }
   ],
   "source": [
    "np.hstack((x,y))"
   ]
  },
  {
   "cell_type": "markdown",
   "id": "2f6fd022",
   "metadata": {},
   "source": [
    "### column_stack() it will align all the elements first x as column and second y as second column"
   ]
  },
  {
   "cell_type": "code",
   "execution_count": 9,
   "id": "1c1949b5",
   "metadata": {},
   "outputs": [
    {
     "data": {
      "text/plain": [
       "array([[10, 40],\n",
       "       [20, 50],\n",
       "       [30, 60]])"
      ]
     },
     "execution_count": 9,
     "metadata": {},
     "output_type": "execute_result"
    }
   ],
   "source": [
    "np.column_stack((x,y))"
   ]
  },
  {
   "cell_type": "markdown",
   "id": "674de72f",
   "metadata": {},
   "source": [
    "### Intersect and difference\n",
    "* intersect means it is setting intersection between two sets\n",
    "* difference means it is setting difference by excluding the common elements\n"
   ]
  },
  {
   "cell_type": "markdown",
   "id": "ce4b2d24",
   "metadata": {},
   "source": [
    "### Intersect"
   ]
  },
  {
   "cell_type": "code",
   "execution_count": 13,
   "id": "aef221a6",
   "metadata": {},
   "outputs": [
    {
     "data": {
      "text/plain": [
       "array([50, 60])"
      ]
     },
     "execution_count": 13,
     "metadata": {},
     "output_type": "execute_result"
    }
   ],
   "source": [
    "x=np.array([10,20,30,40,50,60])\n",
    "y=np.array([50,60,70,80,90,100])\n",
    "np.intersect1d(x,y)\n",
    "# here intersect1d means 1d is one dimensional"
   ]
  },
  {
   "cell_type": "markdown",
   "id": "f2b1b5ef",
   "metadata": {},
   "source": [
    "### Difference "
   ]
  },
  {
   "cell_type": "code",
   "execution_count": 15,
   "id": "aaecb4b9",
   "metadata": {},
   "outputs": [
    {
     "data": {
      "text/plain": [
       "array([10, 20, 30, 40])"
      ]
     },
     "execution_count": 15,
     "metadata": {},
     "output_type": "execute_result"
    }
   ],
   "source": [
    "np.setdiff1d(x,y)"
   ]
  },
  {
   "cell_type": "code",
   "execution_count": 16,
   "id": "be03cce1",
   "metadata": {},
   "outputs": [
    {
     "data": {
      "text/plain": [
       "array([ 70,  80,  90, 100])"
      ]
     },
     "execution_count": 16,
     "metadata": {},
     "output_type": "execute_result"
    }
   ],
   "source": [
    "np.setdiff1d(y,x)"
   ]
  },
  {
   "cell_type": "code",
   "execution_count": 17,
   "id": "bfbe57c4",
   "metadata": {},
   "outputs": [],
   "source": [
    "# here in first one it prints only x and then in second y excluding common elements on both."
   ]
  },
  {
   "cell_type": "code",
   "execution_count": null,
   "id": "44f96908",
   "metadata": {},
   "outputs": [],
   "source": []
  }
 ],
 "metadata": {
  "kernelspec": {
   "display_name": "Python 3 (ipykernel)",
   "language": "python",
   "name": "python3"
  },
  "language_info": {
   "codemirror_mode": {
    "name": "ipython",
    "version": 3
   },
   "file_extension": ".py",
   "mimetype": "text/x-python",
   "name": "python",
   "nbconvert_exporter": "python",
   "pygments_lexer": "ipython3",
   "version": "3.9.13"
  }
 },
 "nbformat": 4,
 "nbformat_minor": 5
}
