{
 "cells": [
  {
   "cell_type": "markdown",
   "id": "d8eed41e",
   "metadata": {},
   "source": [
    "### Numpy save and load"
   ]
  },
  {
   "cell_type": "code",
   "execution_count": 4,
   "id": "6f3ae724",
   "metadata": {},
   "outputs": [],
   "source": [
    "# saving the numpy in a file"
   ]
  },
  {
   "cell_type": "code",
   "execution_count": 3,
   "id": "8ddfa613",
   "metadata": {},
   "outputs": [],
   "source": [
    "import numpy as np\n",
    "x=np.array([10,20,30,40,50,60])\n",
    "np.save('my_numpy',x)"
   ]
  },
  {
   "cell_type": "markdown",
   "id": "78ed5eed",
   "metadata": {},
   "source": [
    "### Load numpy"
   ]
  },
  {
   "cell_type": "code",
   "execution_count": 8,
   "id": "ea1c7f02",
   "metadata": {},
   "outputs": [],
   "source": [
    "y=np.load('my_numpy.npy')"
   ]
  },
  {
   "cell_type": "code",
   "execution_count": 9,
   "id": "15e178ce",
   "metadata": {},
   "outputs": [
    {
     "data": {
      "text/plain": [
       "array([10, 20, 30, 40, 50, 60])"
      ]
     },
     "execution_count": 9,
     "metadata": {},
     "output_type": "execute_result"
    }
   ],
   "source": [
    "y"
   ]
  },
  {
   "cell_type": "code",
   "execution_count": null,
   "id": "4802382c",
   "metadata": {},
   "outputs": [],
   "source": []
  }
 ],
 "metadata": {
  "kernelspec": {
   "display_name": "Python 3 (ipykernel)",
   "language": "python",
   "name": "python3"
  },
  "language_info": {
   "codemirror_mode": {
    "name": "ipython",
    "version": 3
   },
   "file_extension": ".py",
   "mimetype": "text/x-python",
   "name": "python",
   "nbconvert_exporter": "python",
   "pygments_lexer": "ipython3",
   "version": "3.9.13"
  }
 },
 "nbformat": 4,
 "nbformat_minor": 5
}
