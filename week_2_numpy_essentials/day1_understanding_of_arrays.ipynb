{
 "cells": [
  {
   "cell_type": "markdown",
   "id": "51ea76b0",
   "metadata": {},
   "source": [
    "### Numpy"
   ]
  },
  {
   "cell_type": "markdown",
   "id": "cf5ee6e5",
   "metadata": {},
   "source": [
    "### for using Numpy we need to import the libraries as import numpy as np"
   ]
  },
  {
   "cell_type": "code",
   "execution_count": 4,
   "id": "6b6b75f0",
   "metadata": {},
   "outputs": [
    {
     "name": "stdout",
     "output_type": "stream",
     "text": [
      "[1 2 3]\n"
     ]
    }
   ],
   "source": [
    "import numpy as np\n",
    "a=np.array([1,2,3])\n",
    "print(a)"
   ]
  },
  {
   "cell_type": "code",
   "execution_count": 6,
   "id": "465c1515",
   "metadata": {},
   "outputs": [
    {
     "data": {
      "text/plain": [
       "1"
      ]
     },
     "execution_count": 6,
     "metadata": {},
     "output_type": "execute_result"
    }
   ],
   "source": [
    "np.ndim(a)\n",
    "#ndim is used to check dimension of array"
   ]
  },
  {
   "cell_type": "code",
   "execution_count": 7,
   "id": "51319036",
   "metadata": {},
   "outputs": [
    {
     "name": "stdout",
     "output_type": "stream",
     "text": [
      "int32\n"
     ]
    }
   ],
   "source": [
    "print(a.dtype)\n",
    "#to check the datatype of array in numpy"
   ]
  },
  {
   "cell_type": "code",
   "execution_count": 10,
   "id": "392ef835",
   "metadata": {},
   "outputs": [
    {
     "name": "stdout",
     "output_type": "stream",
     "text": [
      "5\n",
      "6.5\n",
      "0\n",
      "0\n"
     ]
    }
   ],
   "source": [
    "b=np.array(5)\n",
    "c=np.array(6.5)\n",
    "print(b)\n",
    "print(c)\n",
    "print(np.ndim(b))\n",
    "print(np.ndim(c))\n",
    "#here the dimension will be zero"
   ]
  },
  {
   "cell_type": "code",
   "execution_count": 11,
   "id": "10773f33",
   "metadata": {},
   "outputs": [
    {
     "name": "stdout",
     "output_type": "stream",
     "text": [
      "[[1 2 3]\n",
      " [5 6 7]]\n"
     ]
    },
    {
     "data": {
      "text/plain": [
       "2"
      ]
     },
     "execution_count": 11,
     "metadata": {},
     "output_type": "execute_result"
    }
   ],
   "source": [
    "a=[[1,2,3],[5,6,7]]\n",
    "A=np.array(a)\n",
    "print(A)\n",
    "np.ndim(A)"
   ]
  },
  {
   "cell_type": "code",
   "execution_count": 12,
   "id": "47fd7c21",
   "metadata": {},
   "outputs": [],
   "source": [
    "# ndim shows 2 dimensional array"
   ]
  },
  {
   "cell_type": "code",
   "execution_count": 13,
   "id": "6099de7f",
   "metadata": {},
   "outputs": [
    {
     "name": "stdout",
     "output_type": "stream",
     "text": [
      "[[1 2 4]\n",
      " [8 9 7]\n",
      " [4 9 3]]\n"
     ]
    },
    {
     "data": {
      "text/plain": [
       "2"
      ]
     },
     "execution_count": 13,
     "metadata": {},
     "output_type": "execute_result"
    }
   ],
   "source": [
    "a=[[1,2,4],[8,9,7],[4,9,3]]\n",
    "B=np.array(a)\n",
    "print(B)\n",
    "np.ndim(A)"
   ]
  },
  {
   "cell_type": "code",
   "execution_count": 14,
   "id": "bd0808bb",
   "metadata": {},
   "outputs": [
    {
     "name": "stdout",
     "output_type": "stream",
     "text": [
      "[[[6 4 3]\n",
      "  [5 3 1]\n",
      "  [8 3 6]\n",
      "  [9 8 4]]]\n"
     ]
    },
    {
     "data": {
      "text/plain": [
       "3"
      ]
     },
     "execution_count": 14,
     "metadata": {},
     "output_type": "execute_result"
    }
   ],
   "source": [
    "d=[[[6,4,3],[5,3,1],[8,3,6],[9,8,4]]]\n",
    "D=np.array(d)\n",
    "print(D)\n",
    "np.ndim(D)"
   ]
  },
  {
   "cell_type": "markdown",
   "id": "6338dc9f",
   "metadata": {},
   "source": [
    "### Shaping"
   ]
  },
  {
   "cell_type": "code",
   "execution_count": 16,
   "id": "b63f3645",
   "metadata": {},
   "outputs": [
    {
     "name": "stdout",
     "output_type": "stream",
     "text": [
      "[[1 2 3]\n",
      " [4 5 6]\n",
      " [7 8 9]]\n"
     ]
    }
   ],
   "source": [
    "x=np.array([[1,2,3],\n",
    "           [4,5,6],\n",
    "           [7,8,9]])\n",
    "print(x)"
   ]
  },
  {
   "cell_type": "code",
   "execution_count": 17,
   "id": "c0c4f2b4",
   "metadata": {},
   "outputs": [
    {
     "data": {
      "text/plain": [
       "(3, 3)"
      ]
     },
     "execution_count": 17,
     "metadata": {},
     "output_type": "execute_result"
    }
   ],
   "source": [
    "np.shape(x)"
   ]
  },
  {
   "cell_type": "code",
   "execution_count": 18,
   "id": "152ccb79",
   "metadata": {},
   "outputs": [],
   "source": [
    "# here (3,3) means 3 rows and 3 columns"
   ]
  },
  {
   "cell_type": "code",
   "execution_count": 19,
   "id": "8feb70ad",
   "metadata": {},
   "outputs": [
    {
     "name": "stdout",
     "output_type": "stream",
     "text": [
      "[[[1]\n",
      "  [2]]\n",
      "\n",
      " [[3]\n",
      "  [4]]\n",
      "\n",
      " [[5]\n",
      "  [6]]]\n"
     ]
    }
   ],
   "source": [
    "y=np.array([[[1],[2]],\n",
    "            [[3],[4]],\n",
    "           [[5],[6]]])\n",
    "print(y)\n"
   ]
  },
  {
   "cell_type": "code",
   "execution_count": 20,
   "id": "27dafbc5",
   "metadata": {},
   "outputs": [
    {
     "data": {
      "text/plain": [
       "(3, 2, 1)"
      ]
     },
     "execution_count": 20,
     "metadata": {},
     "output_type": "execute_result"
    }
   ],
   "source": [
    "np.shape(y)"
   ]
  },
  {
   "cell_type": "code",
   "execution_count": 21,
   "id": "97030b89",
   "metadata": {},
   "outputs": [
    {
     "data": {
      "text/plain": [
       "(5,)"
      ]
     },
     "execution_count": 21,
     "metadata": {},
     "output_type": "execute_result"
    }
   ],
   "source": [
    "e=np.array([1,2,3,4,5])\n",
    "np.shape(e)"
   ]
  },
  {
   "cell_type": "code",
   "execution_count": 22,
   "id": "66c8279b",
   "metadata": {},
   "outputs": [
    {
     "data": {
      "text/plain": [
       "()"
      ]
     },
     "execution_count": 22,
     "metadata": {},
     "output_type": "execute_result"
    }
   ],
   "source": [
    "d=np.array(7)\n",
    "np.shape(d)"
   ]
  },
  {
   "cell_type": "code",
   "execution_count": 25,
   "id": "34e47b5d",
   "metadata": {},
   "outputs": [
    {
     "name": "stdout",
     "output_type": "stream",
     "text": [
      "[[1]\n",
      " [2]\n",
      " [3]\n",
      " [4]\n",
      " [5]]\n"
     ]
    }
   ],
   "source": [
    "e.shape=(5,1)\n",
    "print(e)"
   ]
  },
  {
   "cell_type": "code",
   "execution_count": 26,
   "id": "c10fc30d",
   "metadata": {},
   "outputs": [],
   "source": [
    "# here using e.shape=(5,1) previously it has 5 row and no columns and now it has got 5 rows and 1 columns\n"
   ]
  },
  {
   "cell_type": "code",
   "execution_count": 27,
   "id": "bdf3d91b",
   "metadata": {},
   "outputs": [
    {
     "name": "stdout",
     "output_type": "stream",
     "text": [
      "[[[1]\n",
      "  [2]]\n",
      "\n",
      " [[3]\n",
      "  [4]]\n",
      "\n",
      " [[5]\n",
      "  [6]]]\n"
     ]
    }
   ],
   "source": [
    "print(y)"
   ]
  },
  {
   "cell_type": "code",
   "execution_count": 28,
   "id": "fb13f7f7",
   "metadata": {},
   "outputs": [
    {
     "name": "stdout",
     "output_type": "stream",
     "text": [
      "[[1]\n",
      " [2]\n",
      " [3]\n",
      " [4]\n",
      " [5]\n",
      " [6]]\n"
     ]
    }
   ],
   "source": [
    "y.shape=(6,1)\n",
    "print(y)"
   ]
  },
  {
   "cell_type": "markdown",
   "id": "f9a4b47d",
   "metadata": {},
   "source": [
    "### Reshaping"
   ]
  },
  {
   "cell_type": "code",
   "execution_count": 33,
   "id": "a280b9a0",
   "metadata": {},
   "outputs": [
    {
     "name": "stdout",
     "output_type": "stream",
     "text": [
      "[ 1  2  3  4  5  6  7  8  9 10 11 12]\n"
     ]
    }
   ],
   "source": [
    "a=np.array([1,2,3,4,5,6,7,8,9,10,11,12])\n",
    "print(a)"
   ]
  },
  {
   "cell_type": "code",
   "execution_count": 34,
   "id": "98c48c2f",
   "metadata": {},
   "outputs": [
    {
     "name": "stdout",
     "output_type": "stream",
     "text": [
      "[[ 1  2  3  4]\n",
      " [ 5  6  7  8]\n",
      " [ 9 10 11 12]]\n"
     ]
    }
   ],
   "source": [
    "b=a.reshape(3,4)\n",
    "print(b)"
   ]
  },
  {
   "cell_type": "markdown",
   "id": "9e00fca6",
   "metadata": {},
   "source": [
    "### arange"
   ]
  },
  {
   "cell_type": "code",
   "execution_count": 45,
   "id": "5638a065",
   "metadata": {
    "scrolled": true
   },
   "outputs": [
    {
     "name": "stdout",
     "output_type": "stream",
     "text": [
      "[[ 0  1  2  3  4]\n",
      " [ 5  6  7  8  9]\n",
      " [10 11 12 13 14]\n",
      " [15 16 17 18 19]]\n"
     ]
    }
   ],
   "source": [
    "# here arange means the value range\n",
    "c=np.arange(20).reshape(4,5)\n",
    "print(c)b"
   ]
  },
  {
   "cell_type": "code",
   "execution_count": 47,
   "id": "5454e082",
   "metadata": {},
   "outputs": [
    {
     "data": {
      "text/plain": [
       "array([10, 11, 12, 13, 14, 15, 16, 17, 18, 19])"
      ]
     },
     "execution_count": 47,
     "metadata": {},
     "output_type": "execute_result"
    }
   ],
   "source": [
    "a=np.arange(10,20)\n",
    "a\n",
    "# here arange(10,20) means starting point is 10 and last end point is 20"
   ]
  },
  {
   "cell_type": "code",
   "execution_count": 48,
   "id": "4e46ce0a",
   "metadata": {},
   "outputs": [
    {
     "data": {
      "text/plain": [
       "array([10, 15])"
      ]
     },
     "execution_count": 48,
     "metadata": {},
     "output_type": "execute_result"
    }
   ],
   "source": [
    "a=np.arange(10,20,5)\n",
    "a"
   ]
  },
  {
   "cell_type": "markdown",
   "id": "a0ab8436",
   "metadata": {},
   "source": [
    "### Zeros"
   ]
  },
  {
   "cell_type": "code",
   "execution_count": 39,
   "id": "456e127d",
   "metadata": {},
   "outputs": [
    {
     "name": "stdout",
     "output_type": "stream",
     "text": [
      "[[0. 0.]]\n"
     ]
    }
   ],
   "source": [
    "a=np.zeros((1,2))\n",
    "print(a)"
   ]
  },
  {
   "cell_type": "code",
   "execution_count": 40,
   "id": "79888461",
   "metadata": {},
   "outputs": [
    {
     "name": "stdout",
     "output_type": "stream",
     "text": [
      "[[0. 0. 0. 0. 0.]\n",
      " [0. 0. 0. 0. 0.]\n",
      " [0. 0. 0. 0. 0.]\n",
      " [0. 0. 0. 0. 0.]\n",
      " [0. 0. 0. 0. 0.]]\n"
     ]
    }
   ],
   "source": [
    "a=np.zeros((5,5))\n",
    "print(a)"
   ]
  },
  {
   "cell_type": "markdown",
   "id": "f876850e",
   "metadata": {},
   "source": [
    "### Full"
   ]
  },
  {
   "cell_type": "code",
   "execution_count": 44,
   "id": "6614cac6",
   "metadata": {},
   "outputs": [
    {
     "name": "stdout",
     "output_type": "stream",
     "text": [
      "[[10 10]\n",
      " [10 10]]\n"
     ]
    }
   ],
   "source": [
    "x=np.full((2,2),10)\n",
    "print(x)"
   ]
  },
  {
   "cell_type": "markdown",
   "id": "30a34474",
   "metadata": {},
   "source": [
    "### Random Integer"
   ]
  },
  {
   "cell_type": "code",
   "execution_count": 52,
   "id": "e9c7819d",
   "metadata": {},
   "outputs": [
    {
     "data": {
      "text/plain": [
       "array([38,  2, 64, 41, 66])"
      ]
     },
     "execution_count": 52,
     "metadata": {},
     "output_type": "execute_result"
    }
   ],
   "source": [
    "x=np.random.randint(1,100,5)\n",
    "x\n",
    "# here random.randint will print different set of value everytime"
   ]
  },
  {
   "cell_type": "code",
   "execution_count": null,
   "id": "c76e2c3a",
   "metadata": {},
   "outputs": [],
   "source": []
  }
 ],
 "metadata": {
  "kernelspec": {
   "display_name": "Python 3 (ipykernel)",
   "language": "python",
   "name": "python3"
  },
  "language_info": {
   "codemirror_mode": {
    "name": "ipython",
    "version": 3
   },
   "file_extension": ".py",
   "mimetype": "text/x-python",
   "name": "python",
   "nbconvert_exporter": "python",
   "pygments_lexer": "ipython3",
   "version": "3.9.13"
  }
 },
 "nbformat": 4,
 "nbformat_minor": 5
}
