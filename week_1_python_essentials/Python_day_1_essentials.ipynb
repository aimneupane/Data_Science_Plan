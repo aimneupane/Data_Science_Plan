{
 "cells": [
  {
   "cell_type": "markdown",
   "id": "b39b4205-fea4-47f0-9622-d85bc2aa6ada",
   "metadata": {},
   "source": [
    "### printing in python\n"
   ]
  },
  {
   "cell_type": "code",
   "execution_count": 2,
   "id": "399107f9-8b0f-4318-bc84-ccca9dfd7901",
   "metadata": {},
   "outputs": [
    {
     "name": "stdout",
     "output_type": "stream",
     "text": [
      "hello world\n"
     ]
    }
   ],
   "source": [
    "print(\"hello world\")"
   ]
  },
  {
   "cell_type": "markdown",
   "id": "b35f6a92-91c7-4bde-93cc-e1edfadd00cd",
   "metadata": {},
   "source": [
    "### Initialization of variable"
   ]
  },
  {
   "cell_type": "code",
   "execution_count": 5,
   "id": "095b5ba7-ab87-4021-ae3b-43ef7fbae717",
   "metadata": {},
   "outputs": [
    {
     "name": "stdout",
     "output_type": "stream",
     "text": [
      "2\n",
      "3\n"
     ]
    }
   ],
   "source": [
    "x=2\n",
    "y=3\n",
    "x,y\n",
    "print(x)\n",
    "print(y)\n"
   ]
  },
  {
   "cell_type": "markdown",
   "id": "91717879-c47e-46a8-bf15-ee5f3b7450c4",
   "metadata": {},
   "source": [
    "### Format function"
   ]
  },
  {
   "cell_type": "code",
   "execution_count": 7,
   "id": "11122137-30d1-4ec8-a559-448b71b63132",
   "metadata": {},
   "outputs": [
    {
     "name": "stdout",
     "output_type": "stream",
     "text": [
      "The value of a is 4 and the value of b is 5\n"
     ]
    }
   ],
   "source": [
    "a=4\n",
    "b=5\n",
    "print('The value of a is {} and the value of b is {}'.format(a,b))"
   ]
  },
  {
   "cell_type": "code",
   "execution_count": 8,
   "id": "c4e78694-96b6-4cc4-b5f4-6887c518f266",
   "metadata": {},
   "outputs": [
    {
     "data": {
      "text/plain": [
       "int"
      ]
     },
     "execution_count": 8,
     "metadata": {},
     "output_type": "execute_result"
    }
   ],
   "source": [
    "type(a)"
   ]
  },
  {
   "cell_type": "markdown",
   "id": "4954c938-eb8f-47a9-9f37-9b450122fa76",
   "metadata": {},
   "source": [
    "### To check the data types use type()\n"
   ]
  },
  {
   "cell_type": "code",
   "execution_count": 10,
   "id": "58860b44-00d9-47eb-8e1d-5b6f0fbe91b7",
   "metadata": {},
   "outputs": [
    {
     "data": {
      "text/plain": [
       "int"
      ]
     },
     "execution_count": 10,
     "metadata": {},
     "output_type": "execute_result"
    }
   ],
   "source": [
    "type(b)"
   ]
  },
  {
   "cell_type": "markdown",
   "id": "53370629-53d3-4bfc-b92d-4b8e024c5bb6",
   "metadata": {},
   "source": [
    "### Typecasting\n",
    "Auto typecasting:it automatically converts one type to another\n",
    "Forced TypeCasting:changing the type according to our mood by just putting what data type you need\n"
   ]
  },
  {
   "cell_type": "code",
   "execution_count": 18,
   "id": "aaeeebae-2468-488e-b537-d489687bcd82",
   "metadata": {},
   "outputs": [
    {
     "data": {
      "text/plain": [
       "float"
      ]
     },
     "execution_count": 18,
     "metadata": {},
     "output_type": "execute_result"
    }
   ],
   "source": [
    "type(4+5.6+False)\n",
    "# here the integer automatically becomes 4.0\n",
    "#False becomes 0.0"
   ]
  },
  {
   "cell_type": "code",
   "execution_count": 21,
   "id": "d2079b61-bcef-4d0e-9e12-eed559f32d36",
   "metadata": {},
   "outputs": [
    {
     "data": {
      "text/plain": [
       "9.6"
      ]
     },
     "execution_count": 21,
     "metadata": {},
     "output_type": "execute_result"
    }
   ],
   "source": [
    "4+5.6+False\n",
    "# here we are adding these terms and false be 0.0\n",
    "# i.e bool<int<float"
   ]
  },
  {
   "cell_type": "code",
   "execution_count": 25,
   "id": "55a6051b-5264-4a2e-b2e8-b8451436c286",
   "metadata": {},
   "outputs": [
    {
     "name": "stdout",
     "output_type": "stream",
     "text": [
      "5\n"
     ]
    }
   ],
   "source": [
    "a=5.6\n",
    "b=int(a)\n",
    "print(b)\n",
    "# here the variable a has float data and b is our desired variable and i want to put it in integer so typecasting here it is force one\n"
   ]
  },
  {
   "cell_type": "markdown",
   "id": "c2eb1734-6e07-47d0-951c-f7b3b0da041f",
   "metadata": {},
   "source": [
    "### Input Function"
   ]
  },
  {
   "cell_type": "code",
   "execution_count": 27,
   "id": "c387b7eb-bd52-42e8-be6f-3f3360be220c",
   "metadata": {},
   "outputs": [
    {
     "name": "stdin",
     "output_type": "stream",
     "text": [
      "please tell us your name bijay\n"
     ]
    },
    {
     "name": "stdout",
     "output_type": "stream",
     "text": [
      "bijay\n"
     ]
    }
   ],
   "source": [
    "a=input('please tell us your name')\n",
    "print(a)"
   ]
  },
  {
   "cell_type": "code",
   "execution_count": 28,
   "id": "17bd1572-8fd0-4c6a-ae38-aa4beb15a661",
   "metadata": {},
   "outputs": [
    {
     "name": "stdin",
     "output_type": "stream",
     "text": [
      "please enter any number 50\n"
     ]
    },
    {
     "name": "stdout",
     "output_type": "stream",
     "text": [
      "50\n"
     ]
    }
   ],
   "source": [
    "a=input('please enter any number')\n",
    "b=int(a)\n",
    "print(b)"
   ]
  },
  {
   "cell_type": "code",
   "execution_count": 29,
   "id": "7f323725-f1ee-4675-ae4a-9ceda2f4783e",
   "metadata": {},
   "outputs": [
    {
     "data": {
      "text/plain": [
       "str"
      ]
     },
     "execution_count": 29,
     "metadata": {},
     "output_type": "execute_result"
    }
   ],
   "source": [
    "type(a)"
   ]
  },
  {
   "cell_type": "code",
   "execution_count": 30,
   "id": "fb0567f4-dbdb-473c-9ca6-585f9ef199d7",
   "metadata": {},
   "outputs": [
    {
     "data": {
      "text/plain": [
       "int"
      ]
     },
     "execution_count": 30,
     "metadata": {},
     "output_type": "execute_result"
    }
   ],
   "source": [
    "type(b)"
   ]
  },
  {
   "cell_type": "markdown",
   "id": "987a6a85-b752-4749-925b-ffc1ba8efe87",
   "metadata": {},
   "source": [
    "### Index and slicing important one"
   ]
  },
  {
   "cell_type": "code",
   "execution_count": 32,
   "id": "158e566a-548e-4b3c-af54-5d86dd7ccb0c",
   "metadata": {},
   "outputs": [
    {
     "data": {
      "text/plain": [
       "'I am a data scientist'"
      ]
     },
     "execution_count": 32,
     "metadata": {},
     "output_type": "execute_result"
    }
   ],
   "source": [
    "a=\"I am a data scientist\"\n",
    "a"
   ]
  },
  {
   "cell_type": "code",
   "execution_count": 35,
   "id": "aed4b00a-b6af-4806-a883-37bf52095fee",
   "metadata": {},
   "outputs": [
    {
     "data": {
      "text/plain": [
       "'data'"
      ]
     },
     "execution_count": 35,
     "metadata": {},
     "output_type": "execute_result"
    }
   ],
   "source": [
    "a[7:11]\n",
    "#here python index starts from 0 thats why 7 is the index for d and 11 for a last one ( start index and end index slicing)"
   ]
  },
  {
   "cell_type": "code",
   "execution_count": 37,
   "id": "b160310e-d4c0-4391-86ce-7983a38c9f62",
   "metadata": {},
   "outputs": [
    {
     "data": {
      "text/plain": [
       "'I am a data scientist'"
      ]
     },
     "execution_count": 37,
     "metadata": {},
     "output_type": "execute_result"
    }
   ],
   "source": [
    "a[:]\n",
    "# : means it comprises all index"
   ]
  },
  {
   "cell_type": "code",
   "execution_count": 39,
   "id": "cdd0d319-af64-45b7-9471-cbdb31f1febc",
   "metadata": {},
   "outputs": [
    {
     "data": {
      "text/plain": [
       "'I am a data scientist'"
      ]
     },
     "execution_count": 39,
     "metadata": {},
     "output_type": "execute_result"
    }
   ],
   "source": [
    "a[0:21]\n",
    "#here 0 is first one and 21 is last one"
   ]
  },
  {
   "cell_type": "code",
   "execution_count": 41,
   "id": "eb621212-4505-4064-900c-ff3ef32922be",
   "metadata": {},
   "outputs": [
    {
     "data": {
      "text/plain": [
       "'I am a data scientis'"
      ]
     },
     "execution_count": 41,
     "metadata": {},
     "output_type": "execute_result"
    }
   ],
   "source": [
    "a[0:-1]\n",
    "#here all the data is comprised excluding the last element 't'"
   ]
  },
  {
   "cell_type": "markdown",
   "id": "935d9713-8113-4970-8674-0a18a9415433",
   "metadata": {},
   "source": [
    "### Negative indexing"
   ]
  },
  {
   "cell_type": "code",
   "execution_count": 46,
   "id": "7e5344dc-e4bf-4e00-8dae-66101cc9779a",
   "metadata": {},
   "outputs": [
    {
     "data": {
      "text/plain": [
       "'scientist'"
      ]
     },
     "execution_count": 46,
     "metadata": {},
     "output_type": "execute_result"
    }
   ],
   "source": [
    "a[-9:]\n",
    "#here it is including scientist from right"
   ]
  },
  {
   "cell_type": "code",
   "execution_count": 45,
   "id": "7dde3156-43ec-4886-ab99-568ba0836eed",
   "metadata": {},
   "outputs": [
    {
     "data": {
      "text/plain": [
       "'I am a data '"
      ]
     },
     "execution_count": 45,
     "metadata": {},
     "output_type": "execute_result"
    }
   ],
   "source": [
    "a[:-9]\n",
    "#here it is excluding the scientist one from right"
   ]
  },
  {
   "cell_type": "markdown",
   "id": "d336c87d-5b9c-4abf-a4a7-61e0ba082ce8",
   "metadata": {},
   "source": [
    "### Step in indexing"
   ]
  },
  {
   "cell_type": "code",
   "execution_count": 48,
   "id": "54cbbe59-afe2-449b-bf33-da7afd012f2b",
   "metadata": {},
   "outputs": [
    {
     "data": {
      "text/plain": [
       "'I am a data scientist'"
      ]
     },
     "execution_count": 48,
     "metadata": {},
     "output_type": "execute_result"
    }
   ],
   "source": [
    "a"
   ]
  },
  {
   "cell_type": "code",
   "execution_count": 50,
   "id": "3afc59ad-e567-4ee0-9ff5-196671023d6a",
   "metadata": {},
   "outputs": [
    {
     "data": {
      "text/plain": [
       "'a  aasini'"
      ]
     },
     "execution_count": 50,
     "metadata": {},
     "output_type": "execute_result"
    }
   ],
   "source": [
    "a[2:-1:2]\n",
    "#here 2 is starting index and -1 is end index and 2 means 2 characters is jumped which is step"
   ]
  },
  {
   "cell_type": "code",
   "execution_count": 52,
   "id": "1ba5ad90-4ded-4874-8572-afb806a1ce90",
   "metadata": {},
   "outputs": [
    {
     "data": {
      "text/plain": [
       "'tsitneics atad a ma I'"
      ]
     },
     "execution_count": 52,
     "metadata": {},
     "output_type": "execute_result"
    }
   ],
   "source": [
    "a[::-1]\n",
    "#here both start and end index is fixed and step is negative which will reverse"
   ]
  },
  {
   "cell_type": "code",
   "execution_count": 57,
   "id": "b4857be0-b94f-40a9-9664-303d74b02401",
   "metadata": {},
   "outputs": [
    {
     "data": {
      "text/plain": [
       "'s atad a ma I'"
      ]
     },
     "execution_count": 57,
     "metadata": {},
     "output_type": "execute_result"
    }
   ],
   "source": [
    "a[-9::-1]"
   ]
  },
  {
   "cell_type": "markdown",
   "id": "6367c259-d2c6-427a-a376-21cbf72d8b48",
   "metadata": {},
   "source": [
    "### Conditional statement\n"
   ]
  },
  {
   "cell_type": "code",
   "execution_count": 58,
   "id": "2445fd6f-8702-4f82-a72c-a243f9f08f10",
   "metadata": {},
   "outputs": [
    {
     "name": "stdout",
     "output_type": "stream",
     "text": [
      "positive\n"
     ]
    }
   ],
   "source": [
    "x=1\n",
    "if(x>0):\n",
    "    print('positive')\n",
    "else:\n",
    "    print('negative')\n"
   ]
  },
  {
   "cell_type": "markdown",
   "id": "d0ccf752-b4cd-4167-8c2f-9b0299daaaf7",
   "metadata": {},
   "source": [
    "### Lists"
   ]
  },
  {
   "cell_type": "code",
   "execution_count": 60,
   "id": "64e18459-732a-4605-92ab-77ff4247b42b",
   "metadata": {},
   "outputs": [
    {
     "data": {
      "text/plain": [
       "[1, 2, 3, 4, 5, 'data', 6, 7, 8, 5.6, 9, True]"
      ]
     },
     "execution_count": 60,
     "metadata": {},
     "output_type": "execute_result"
    }
   ],
   "source": [
    "l=[1,2,3,4,5,'data',6,7,8,5.6,9,True]\n",
    "l"
   ]
  },
  {
   "cell_type": "code",
   "execution_count": null,
   "id": "5552738f-c304-471e-bd6b-f9b19c9c5c70",
   "metadata": {},
   "outputs": [],
   "source": []
  }
 ],
 "metadata": {
  "kernelspec": {
   "display_name": "Python 3 (ipykernel)",
   "language": "python",
   "name": "python3"
  },
  "language_info": {
   "codemirror_mode": {
    "name": "ipython",
    "version": 3
   },
   "file_extension": ".py",
   "mimetype": "text/x-python",
   "name": "python",
   "nbconvert_exporter": "python",
   "pygments_lexer": "ipython3",
   "version": "3.9.13"
  }
 },
 "nbformat": 4,
 "nbformat_minor": 5
}
