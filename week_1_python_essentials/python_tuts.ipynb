{
 "cells": [
  {
   "cell_type": "code",
   "execution_count": 1,
   "id": "7769f5c7",
   "metadata": {},
   "outputs": [
    {
     "name": "stdout",
     "output_type": "stream",
     "text": [
      "bj\n",
      "5\n"
     ]
    }
   ],
   "source": [
    "print(\"bj\")\n",
    "print(2+3)"
   ]
  },
  {
   "cell_type": "code",
   "execution_count": 2,
   "id": "88ac439e",
   "metadata": {},
   "outputs": [
    {
     "name": "stdout",
     "output_type": "stream",
     "text": [
      "All are busy in learning data science\n"
     ]
    }
   ],
   "source": [
    "print(\"All are busy in learning data science\")"
   ]
  },
  {
   "cell_type": "markdown",
   "id": "625dfef5",
   "metadata": {},
   "source": [
    "# operator"
   ]
  },
  {
   "cell_type": "code",
   "execution_count": 3,
   "id": "2ae39a1e",
   "metadata": {},
   "outputs": [
    {
     "name": "stdout",
     "output_type": "stream",
     "text": [
      "5\n",
      "1\n",
      "3.0\n",
      "8\n",
      "1\n"
     ]
    }
   ],
   "source": [
    "print(2+3)\n",
    "print(3-2)\n",
    "print(6/2)\n",
    "print(4*2)\n",
    "print(13%2)\n",
    "# १३ लाई २ ले भाग गरदा १ रिमाइन्डर बच्छ भनेर देखियो which is also called remainder."
   ]
  },
  {
   "cell_type": "code",
   "execution_count": 4,
   "id": "2c4e9a31",
   "metadata": {},
   "outputs": [
    {
     "name": "stdout",
     "output_type": "stream",
     "text": [
      "3\n"
     ]
    }
   ],
   "source": [
    " print(6//2)"
   ]
  },
  {
   "cell_type": "code",
   "execution_count": 5,
   "id": "d5cf0efb",
   "metadata": {},
   "outputs": [],
   "source": [
    "# print(6/2) gives us float value \n",
    "# while print(6//2) gives us int value."
   ]
  },
  {
   "cell_type": "code",
   "execution_count": 6,
   "id": "553b1c1f",
   "metadata": {},
   "outputs": [
    {
     "name": "stdout",
     "output_type": "stream",
     "text": [
      "8\n"
     ]
    }
   ],
   "source": [
    "print(2**3)"
   ]
  },
  {
   "cell_type": "code",
   "execution_count": 7,
   "id": "14348194",
   "metadata": {},
   "outputs": [],
   "source": [
    "# ** means power"
   ]
  },
  {
   "cell_type": "code",
   "execution_count": 8,
   "id": "c3fd8ad1",
   "metadata": {},
   "outputs": [],
   "source": [
    "# control + / : comments out all lines."
   ]
  },
  {
   "cell_type": "code",
   "execution_count": 9,
   "id": "b0f31cdf",
   "metadata": {},
   "outputs": [
    {
     "name": "stdout",
     "output_type": "stream",
     "text": [
      "10.166666666666666\n"
     ]
    }
   ],
   "source": [
    "# PEMDAS ( parenthesis, exponent, multiplication, division , addition, subtraction)\n",
    "print(3**2/2*3/3+6-4/(2*6))"
   ]
  },
  {
   "cell_type": "code",
   "execution_count": 10,
   "id": "be6854a8",
   "metadata": {},
   "outputs": [
    {
     "data": {
      "text/plain": [
       "int"
      ]
     },
     "execution_count": 10,
     "metadata": {},
     "output_type": "execute_result"
    }
   ],
   "source": [
    "x=5\n",
    "type(x)"
   ]
  },
  {
   "cell_type": "code",
   "execution_count": 12,
   "id": "f380e6e8",
   "metadata": {},
   "outputs": [
    {
     "name": "stdout",
     "output_type": "stream",
     "text": [
      "<class 'str'>\n",
      "mangoes\n"
     ]
    }
   ],
   "source": [
    "fruit_basket=8\n",
    "fruit_basket=\"mangoes\"\n",
    "print(type(fruit_basket))\n",
    "print(fruit_basket)"
   ]
  },
  {
   "cell_type": "code",
   "execution_count": 13,
   "id": "15e3ede5",
   "metadata": {},
   "outputs": [
    {
     "name": "stdout",
     "output_type": "stream",
     "text": [
      "which is your favorite fruit ?mango\n",
      "mango\n"
     ]
    }
   ],
   "source": [
    "# input variables\n",
    "fruit_basket=input(\"which is your favorite fruit? \")\n",
    "print(fruit_basket)"
   ]
  },
  {
   "cell_type": "code",
   "execution_count": 14,
   "id": "e4505391",
   "metadata": {},
   "outputs": [
    {
     "name": "stdout",
     "output_type": "stream",
     "text": [
      "what is your name? bijay\n",
      "Hello bijay\n"
     ]
    }
   ],
   "source": [
    "# input function of second stage\n",
    "name=input(\"what is your name? \")\n",
    "greetings=\"Hello\"\n",
    "print(greetings,name)"
   ]
  },
  {
   "cell_type": "code",
   "execution_count": 15,
   "id": "43f11407",
   "metadata": {},
   "outputs": [
    {
     "name": "stdout",
     "output_type": "stream",
     "text": [
      "True\n"
     ]
    }
   ],
   "source": [
    "# conditional:\n",
    "print(4==4)"
   ]
  },
  {
   "cell_type": "code",
   "execution_count": 16,
   "id": "006a4f0c",
   "metadata": {},
   "outputs": [
    {
     "name": "stdout",
     "output_type": "stream",
     "text": [
      "False\n"
     ]
    }
   ],
   "source": [
    "print(4!=4)"
   ]
  },
  {
   "cell_type": "code",
   "execution_count": 17,
   "id": "119d2d47",
   "metadata": {},
   "outputs": [
    {
     "name": "stdout",
     "output_type": "stream",
     "text": [
      "True\n"
     ]
    }
   ],
   "source": [
    "print(4>3)"
   ]
  },
  {
   "cell_type": "code",
   "execution_count": 18,
   "id": "15bfea6d",
   "metadata": {},
   "outputs": [
    {
     "name": "stdout",
     "output_type": "stream",
     "text": [
      "True\n"
     ]
    }
   ],
   "source": [
    "print(3<6)"
   ]
  },
  {
   "cell_type": "code",
   "execution_count": 19,
   "id": "8a9da04b",
   "metadata": {},
   "outputs": [
    {
     "name": "stdout",
     "output_type": "stream",
     "text": [
      "True\n"
     ]
    }
   ],
   "source": [
    "print(3<=5)"
   ]
  },
  {
   "cell_type": "code",
   "execution_count": 20,
   "id": "98741a14",
   "metadata": {},
   "outputs": [
    {
     "name": "stdout",
     "output_type": "stream",
     "text": [
      "bijay can join the school\n"
     ]
    }
   ],
   "source": [
    "required_age_at_school=4\n",
    "bijay_age=4\n",
    "\n",
    "if bijay_age==required_age_at_school:\n",
    "    print(\"bijay can join the school\")"
   ]
  },
  {
   "cell_type": "code",
   "execution_count": 21,
   "id": "677f45d7",
   "metadata": {},
   "outputs": [
    {
     "name": "stdout",
     "output_type": "stream",
     "text": [
      "hello world\n",
      "hello world\n",
      "hello world\n"
     ]
    }
   ],
   "source": [
    "# defining a function\n",
    "def print_neupane():\n",
    "    print(\"hello world\")\n",
    "    print(\"hello world\")\n",
    "    print(\"hello world\")\n",
    "print_neupane()"
   ]
  },
  {
   "cell_type": "code",
   "execution_count": 22,
   "id": "c0ceb7a0",
   "metadata": {},
   "outputs": [
    {
     "name": "stdout",
     "output_type": "stream",
     "text": [
      "hello world\n",
      "hello world\n",
      "hello world\n"
     ]
    }
   ],
   "source": [
    "def print_neupane():\n",
    "    text=\"hello world\"\n",
    "    print(text)\n",
    "    print(text)\n",
    "    print(text)\n",
    "    \n",
    "print_neupane()"
   ]
  },
  {
   "cell_type": "code",
   "execution_count": 23,
   "id": "c74ad769",
   "metadata": {},
   "outputs": [
    {
     "name": "stdout",
     "output_type": "stream",
     "text": [
      "hello neupane\n",
      "hello neupane\n",
      "hello neupane\n"
     ]
    }
   ],
   "source": [
    "def print_neupane(text):\n",
    "    print(text)\n",
    "    print(text)\n",
    "    print(text)\n",
    "    \n",
    "print_neupane(\"hello neupane\")"
   ]
  },
  {
   "cell_type": "code",
   "execution_count": null,
   "id": "26487ca1",
   "metadata": {},
   "outputs": [],
   "source": []
  }
 ],
 "metadata": {
  "kernelspec": {
   "display_name": "Python 3 (ipykernel)",
   "language": "python",
   "name": "python3"
  },
  "language_info": {
   "codemirror_mode": {
    "name": "ipython",
    "version": 3
   },
   "file_extension": ".py",
   "mimetype": "text/x-python",
   "name": "python",
   "nbconvert_exporter": "python",
   "pygments_lexer": "ipython3",
   "version": "3.9.13"
  }
 },
 "nbformat": 4,
 "nbformat_minor": 5
}
