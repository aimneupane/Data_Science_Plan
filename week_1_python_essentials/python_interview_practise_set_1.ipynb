{
 "cells": [
  {
   "cell_type": "markdown",
   "id": "602e095b",
   "metadata": {},
   "source": [
    "\n",
    "\n",
    "1. What are the main benefits of using Python for data science?\n",
    "\n",
    "2. What are the differences between lists, tuples, and sets in Python?\n",
    "\n",
    "3. Explain the difference between NumPy and pandas.\n",
    "\n",
    "4. What is a Pandas DataFrame?\n",
    "\n",
    "5. What is a NumPy array?\n",
    "\n",
    "6. What are the different types of join operations in Pandas?\n",
    "\n",
    "7. What are some of the common data cleaning techniques used in Pandas?\n",
    "\n",
    "8. What is the difference between loc() and iloc() in Pandas?\n",
    "\n",
    "9. What is a lambda function and how is it used in Python?\n",
    "\n",
    "10. What are decorators in Python?\n",
    "\n",
    "11. How would you handle missing values in a dataset?\n",
    "\n",
    "12. What is a scatter plot and what is it used for?\n",
    "\n",
    "13. How do you perform logistic regression in Python?\n",
    "\n",
    "14. What is cross-validation and why is it important?\n",
    "\n",
    "15. What is the difference between supervised and unsupervised learning?\n",
    "\n",
    "16. What is a confusion matrix and how is it used to evaluate model performance?\n",
    "\n",
    "17. What is regularization and why is it important?\n",
    "\n",
    "18. Explain the concept of overfitting and how it can be prevented.\n",
    "\n",
    "19. How do you perform feature scaling in Python?\n",
    "\n",
    "20. What is a random forest and how does it work?"
   ]
  },
  {
   "cell_type": "markdown",
   "id": "91ae0934",
   "metadata": {},
   "source": [
    "1. what are the main benefits of using python for data science\n",
    "= 1. open source: it is free to use and modify.\n",
    "    2. easy to learn: \n",
    "    3. large community.\n",
    "    4. rich ecosystem\n",
    "    5. interoperability: it can easily integrated with other programming lang.\n",
    "    6. fast protyping: fast prototyping and experimentation, allow data scientists to quickly test and iterate on ideas.\n",
    "    7. scalability: it can handle large datasets. "
   ]
  },
  {
   "cell_type": "markdown",
   "id": "749c337e",
   "metadata": {},
   "source": [
    ".py stands for source code files\n",
    "while .pyc contains bytecode of python file."
   ]
  },
  {
   "cell_type": "markdown",
   "id": "ff20fdcb",
   "metadata": {},
   "source": [
    "# keywords in python\n",
    " * and\n",
    " * or\n",
    " * not\n",
    " * if\n",
    " * elif\n",
    " * else\n",
    " * for\n",
    " * while\n",
    " * break\n",
    " * as\n",
    " * def\n",
    " * lambda\n",
    " * pass\n",
    " * return\n",
    " * true\n",
    " * false\n",
    " * try\n",
    " * with\n",
    " * assert\n",
    " * etc\n",
    " "
   ]
  },
  {
   "cell_type": "markdown",
   "id": "b328561f",
   "metadata": {},
   "source": [
    "# 5 type of literals: literals means fixed value for primitive data types.\n",
    "* string literals\n",
    "* character literals\n",
    "* numeric literals\n",
    "* boolean literals\n",
    "* literals collections"
   ]
  },
  {
   "cell_type": "markdown",
   "id": "933b8253",
   "metadata": {},
   "source": [
    "# how to combine dataframes in pandas\n",
    "* pd.concat([dataframe1, dataframe2])\n",
    "* pd.concat([dataframe1,dataframe2],axis=\"1 or 1\", join=\"type_of_join\")"
   ]
  },
  {
   "cell_type": "markdown",
   "id": "f3b62593",
   "metadata": {},
   "source": [
    "yes python is case sensitive.\n",
    "and indentation is necessary too ."
   ]
  },
  {
   "cell_type": "markdown",
   "id": "cb9e0869",
   "metadata": {},
   "source": [
    "# Arrays and lists in python have the same way of storing data.\n",
    "* array can hold only a single data type elements\n",
    "* whereas lists can hold any data type elements.\n",
    "* array ex. array=[1,2,3,4,5]\n",
    "* list ex. list=[1,\"abc\",1.20]\n"
   ]
  },
  {
   "cell_type": "markdown",
   "id": "d373aea2",
   "metadata": {},
   "source": [
    "# function in python\n",
    "* def Newfunc():\n",
    "* print(\"hello world\")\n",
    "* Newfunc(); / calling the function"
   ]
  },
  {
   "cell_type": "markdown",
   "id": "300573ec",
   "metadata": {},
   "source": [
    "# what is _init_?\n",
    "* class Employee:\n",
    "* def _init_(self,name, age, salary):\n",
    "* self.name=name\n",
    "* self.age=age\n",
    "* self.salary=2000\n",
    "* E1=Employee(\"xyz\",23,20000)\n",
    "* print(E1.name)\n",
    "* print(E1.age)\n",
    "* print(E1.salary)\n",
    "\n",
    "* Here E1 is instance of class / constructor.\n",
    "* init is method or constructor in python.\n",
    "* this method is automatically called to allocate memory when object is created.\n",
    "* all classes have _init_method."
   ]
  },
  {
   "cell_type": "markdown",
   "id": "e69c1546",
   "metadata": {},
   "source": [
    "# what is a lambda function?\n",
    "* an anonymous function is known as lambda. \n",
    "* this function can have any number of parameters but can have just one statement.\n",
    "* a =lambda x,y:x+y\n",
    "* print(a(5,6))"
   ]
  },
  {
   "cell_type": "markdown",
   "id": "65dbacf9",
   "metadata": {},
   "source": [
    "# what does [::-1] do\n",
    "* it is used to reverse the order of an array or a sequence.\n",
    "* import array as arr\n",
    "* myarray=arr.array('i',[1,2,3,4,5])\n",
    "* myarray[::-1]\n",
    "* output = (\"i\",[5,4,3,2,1])"
   ]
  },
  {
   "cell_type": "markdown",
   "id": "2f25c858",
   "metadata": {},
   "source": [
    "# randomize the items.\n",
    "* from random import shuffle\n",
    "* x=['keep','the','flag','straight']\n",
    "* shuffle(x)\n",
    "* print(x)"
   ]
  },
  {
   "cell_type": "code",
   "execution_count": null,
   "id": "0ca13a4b",
   "metadata": {},
   "outputs": [],
   "source": []
  }
 ],
 "metadata": {
  "kernelspec": {
   "display_name": "Python 3 (ipykernel)",
   "language": "python",
   "name": "python3"
  },
  "language_info": {
   "codemirror_mode": {
    "name": "ipython",
    "version": 3
   },
   "file_extension": ".py",
   "mimetype": "text/x-python",
   "name": "python",
   "nbconvert_exporter": "python",
   "pygments_lexer": "ipython3",
   "version": "3.9.13"
  }
 },
 "nbformat": 4,
 "nbformat_minor": 5
}
