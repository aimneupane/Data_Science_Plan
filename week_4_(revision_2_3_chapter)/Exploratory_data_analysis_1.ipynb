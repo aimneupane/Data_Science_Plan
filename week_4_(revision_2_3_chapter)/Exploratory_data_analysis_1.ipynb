{
 "cells": [
  {
   "cell_type": "markdown",
   "id": "4a5ceada",
   "metadata": {},
   "source": [
    "### EDA starts with first\n",
    "* dataset load\n",
    "* then see the info, shape ,size\n",
    "* find the missing values, incorrect, duplicate, anamolies, incorrect data types too\n",
    "* correlation between the data\n",
    "* drop unwanted column and derive new variables\n",
    "* univariate analysis and multivariate analysis\n",
    "* clean it\n",
    "* analyze visually the outliers, relationship with other variables\n",
    "* question and answers related to dataset\n"
   ]
  },
  {
   "cell_type": "code",
   "execution_count": 1,
   "id": "45c76865",
   "metadata": {},
   "outputs": [],
   "source": [
    "# first import the libraries"
   ]
  },
  {
   "cell_type": "code",
   "execution_count": 2,
   "id": "4257881a",
   "metadata": {},
   "outputs": [],
   "source": [
    "import numpy as np\n",
    "import pandas as pd\n",
    "import matplotlib.pyplot as plt\n",
    "import seaborn as sns"
   ]
  },
  {
   "cell_type": "code",
   "execution_count": null,
   "id": "52af3937",
   "metadata": {},
   "outputs": [],
   "source": []
  }
 ],
 "metadata": {
  "kernelspec": {
   "display_name": "Python 3 (ipykernel)",
   "language": "python",
   "name": "python3"
  },
  "language_info": {
   "codemirror_mode": {
    "name": "ipython",
    "version": 3
   },
   "file_extension": ".py",
   "mimetype": "text/x-python",
   "name": "python",
   "nbconvert_exporter": "python",
   "pygments_lexer": "ipython3",
   "version": "3.9.13"
  }
 },
 "nbformat": 4,
 "nbformat_minor": 5
}
